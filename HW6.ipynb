{
 "cells": [
  {
   "cell_type": "markdown",
   "metadata": {},
   "source": [
    "# Homework 6"
   ]
  },
  {
   "cell_type": "markdown",
   "metadata": {},
   "source": [
    "\"Personal Loan Acceptance. Universal Bank is a relatively young bank growing rapidly in terms of overall customer acquisition. The majority of these customers are liability customers (depositors) with varying sizes of relationship with the bank. The customer base of asset customers (borrowers) is quite small, and the bank is interested in expanding this base rapidly to bring in more loan business. In particular, it wants to explore ways of converting its liability customers to personal loan customers (while retaining them as depositors).\n",
    "\n",
    "\n",
    "A campaign that the bank ran last year for liability customers showed a healthy conversion rate of over 9% success. This has encouraged the retail marketing department to devise smarter campaigns with better target marketing. The goal is to use k-NN to predict whether a new customer will accept a loan offer. This will serve as the basis for the design of a new campaign.\n",
    "\n",
    "\n",
    "The file UniversalBank.csv contains data on 5000 customers. The data include customer demographic information (age, income, etc.), the customer’s relationship with the bank (mortgage, securities account, etc.), and the customer response to the last personal loan campaign (Personal Loan). Among these 5000 customers, only 480 (=9.6%) accepted the personal loan that was offered to them in the earlier campaign.\n",
    "\n",
    "\n",
    "<code>Partition the data into training (60%) and validation (40%) sets.</code>\n"
   ]
  },
  {
   "cell_type": "markdown",
   "metadata": {},
   "source": [
    "## Question 1\n",
    "Consider the following customer: Age = 40, Experience = 10, Income = 84, Family = 2, CCAvg = 2, Education_1 = 0, Education_2 = 1, Education_3 = 0, Mortgage = 0, Securities Account = 0, CD Account = 0, Online = 1, and Credit Card = 1. Perform a k-NN classification with all predictors except ID and ZIP code using k = 1. Remember to transform categorical predictors with more than two categories into dummy variables first. Specify the success class as 1 (loan acceptance), and use the default cutoff value of 0.5. How would this customer be classified?"
   ]
  },
  {
   "cell_type": "markdown",
   "metadata": {},
   "source": [
    "## Question 2\n",
    "What is a choice of k that balances between overfitting and ignoring the predictor information?"
   ]
  },
  {
   "cell_type": "markdown",
   "metadata": {},
   "source": [
    "## Question 3\n",
    "Show the confusion matrix for the validation data that results from using the best k."
   ]
  },
  {
   "cell_type": "markdown",
   "metadata": {},
   "source": [
    "## Question 4\n",
    "Consider the following customer: Age = 40, Experience = 10, Income = 84, Family = 2, CCAvg = 2, Education_1 = 0, Education_2 = 1, Education_3 = 0, Mortgage = 0, Securities Account = 0, CD Account = 0, Online = 1 and Credit Card = 1. Classify the customer using the best k."
   ]
  },
  {
   "cell_type": "markdown",
   "metadata": {},
   "source": [
    "## Question 5\n",
    "Repartition the data, this time into training, validation, and test sets (50%:30%:20%). Apply the k-NN method with the k chosen above. Compare the confusion matrix of the test set with that of the training and validation sets. Comment on the differences and their reason.\""
   ]
  },
  {
   "cell_type": "code",
   "execution_count": 4,
   "metadata": {},
   "outputs": [],
   "source": [
    "# Importing libraries\n",
    "import pandas as pd\n",
    "import numpy as np\n",
    "import matplotlib.pyplot as plt\n",
    "import seaborn as sns\n",
    "\n",
    "%matplotlib inline"
   ]
  },
  {
   "cell_type": "code",
   "execution_count": 5,
   "metadata": {},
   "outputs": [],
   "source": [
    "# import excel sheet and assign df to it.\n",
    "df = pd.read_csv('UniversalBank.csv')"
   ]
  },
  {
   "cell_type": "code",
   "execution_count": 6,
   "metadata": {},
   "outputs": [
    {
     "data": {
      "text/html": [
       "<div>\n",
       "<style scoped>\n",
       "    .dataframe tbody tr th:only-of-type {\n",
       "        vertical-align: middle;\n",
       "    }\n",
       "\n",
       "    .dataframe tbody tr th {\n",
       "        vertical-align: top;\n",
       "    }\n",
       "\n",
       "    .dataframe thead th {\n",
       "        text-align: right;\n",
       "    }\n",
       "</style>\n",
       "<table border=\"1\" class=\"dataframe\">\n",
       "  <thead>\n",
       "    <tr style=\"text-align: right;\">\n",
       "      <th></th>\n",
       "      <th>ID</th>\n",
       "      <th>Age</th>\n",
       "      <th>Experience</th>\n",
       "      <th>Income</th>\n",
       "      <th>ZIP Code</th>\n",
       "      <th>Family</th>\n",
       "      <th>CCAvg</th>\n",
       "      <th>Education</th>\n",
       "      <th>Mortgage</th>\n",
       "      <th>Personal Loan</th>\n",
       "      <th>Securities Account</th>\n",
       "      <th>CD Account</th>\n",
       "      <th>Online</th>\n",
       "      <th>CreditCard</th>\n",
       "    </tr>\n",
       "  </thead>\n",
       "  <tbody>\n",
       "    <tr>\n",
       "      <th>0</th>\n",
       "      <td>1</td>\n",
       "      <td>25</td>\n",
       "      <td>1</td>\n",
       "      <td>49</td>\n",
       "      <td>91107</td>\n",
       "      <td>4</td>\n",
       "      <td>1.6</td>\n",
       "      <td>1</td>\n",
       "      <td>0</td>\n",
       "      <td>0</td>\n",
       "      <td>1</td>\n",
       "      <td>0</td>\n",
       "      <td>0</td>\n",
       "      <td>0</td>\n",
       "    </tr>\n",
       "    <tr>\n",
       "      <th>1</th>\n",
       "      <td>2</td>\n",
       "      <td>45</td>\n",
       "      <td>19</td>\n",
       "      <td>34</td>\n",
       "      <td>90089</td>\n",
       "      <td>3</td>\n",
       "      <td>1.5</td>\n",
       "      <td>1</td>\n",
       "      <td>0</td>\n",
       "      <td>0</td>\n",
       "      <td>1</td>\n",
       "      <td>0</td>\n",
       "      <td>0</td>\n",
       "      <td>0</td>\n",
       "    </tr>\n",
       "    <tr>\n",
       "      <th>2</th>\n",
       "      <td>3</td>\n",
       "      <td>39</td>\n",
       "      <td>15</td>\n",
       "      <td>11</td>\n",
       "      <td>94720</td>\n",
       "      <td>1</td>\n",
       "      <td>1.0</td>\n",
       "      <td>1</td>\n",
       "      <td>0</td>\n",
       "      <td>0</td>\n",
       "      <td>0</td>\n",
       "      <td>0</td>\n",
       "      <td>0</td>\n",
       "      <td>0</td>\n",
       "    </tr>\n",
       "    <tr>\n",
       "      <th>3</th>\n",
       "      <td>4</td>\n",
       "      <td>35</td>\n",
       "      <td>9</td>\n",
       "      <td>100</td>\n",
       "      <td>94112</td>\n",
       "      <td>1</td>\n",
       "      <td>2.7</td>\n",
       "      <td>2</td>\n",
       "      <td>0</td>\n",
       "      <td>0</td>\n",
       "      <td>0</td>\n",
       "      <td>0</td>\n",
       "      <td>0</td>\n",
       "      <td>0</td>\n",
       "    </tr>\n",
       "    <tr>\n",
       "      <th>4</th>\n",
       "      <td>5</td>\n",
       "      <td>35</td>\n",
       "      <td>8</td>\n",
       "      <td>45</td>\n",
       "      <td>91330</td>\n",
       "      <td>4</td>\n",
       "      <td>1.0</td>\n",
       "      <td>2</td>\n",
       "      <td>0</td>\n",
       "      <td>0</td>\n",
       "      <td>0</td>\n",
       "      <td>0</td>\n",
       "      <td>0</td>\n",
       "      <td>1</td>\n",
       "    </tr>\n",
       "  </tbody>\n",
       "</table>\n",
       "</div>"
      ],
      "text/plain": [
       "   ID  Age  Experience  Income  ZIP Code  Family  CCAvg  Education  Mortgage  \\\n",
       "0   1   25           1      49     91107       4    1.6          1         0   \n",
       "1   2   45          19      34     90089       3    1.5          1         0   \n",
       "2   3   39          15      11     94720       1    1.0          1         0   \n",
       "3   4   35           9     100     94112       1    2.7          2         0   \n",
       "4   5   35           8      45     91330       4    1.0          2         0   \n",
       "\n",
       "   Personal Loan  Securities Account  CD Account  Online  CreditCard  \n",
       "0              0                   1           0       0           0  \n",
       "1              0                   1           0       0           0  \n",
       "2              0                   0           0       0           0  \n",
       "3              0                   0           0       0           0  \n",
       "4              0                   0           0       0           1  "
      ]
     },
     "execution_count": 6,
     "metadata": {},
     "output_type": "execute_result"
    }
   ],
   "source": [
    "# Take a peek into data\n",
    "df.head()"
   ]
  },
  {
   "cell_type": "code",
   "execution_count": 7,
   "metadata": {},
   "outputs": [],
   "source": [
    "df = pd.get_dummies(df, columns=['Education']).drop('Education_3', axis=1)"
   ]
  },
  {
   "cell_type": "code",
   "execution_count": 8,
   "metadata": {},
   "outputs": [
    {
     "name": "stdout",
     "output_type": "stream",
     "text": [
      "<class 'pandas.core.frame.DataFrame'>\n",
      "RangeIndex: 5000 entries, 0 to 4999\n",
      "Data columns (total 15 columns):\n",
      " #   Column              Non-Null Count  Dtype  \n",
      "---  ------              --------------  -----  \n",
      " 0   ID                  5000 non-null   int64  \n",
      " 1   Age                 5000 non-null   int64  \n",
      " 2   Experience          5000 non-null   int64  \n",
      " 3   Income              5000 non-null   int64  \n",
      " 4   ZIP Code            5000 non-null   int64  \n",
      " 5   Family              5000 non-null   int64  \n",
      " 6   CCAvg               5000 non-null   float64\n",
      " 7   Mortgage            5000 non-null   int64  \n",
      " 8   Personal Loan       5000 non-null   int64  \n",
      " 9   Securities Account  5000 non-null   int64  \n",
      " 10  CD Account          5000 non-null   int64  \n",
      " 11  Online              5000 non-null   int64  \n",
      " 12  CreditCard          5000 non-null   int64  \n",
      " 13  Education_1         5000 non-null   uint8  \n",
      " 14  Education_2         5000 non-null   uint8  \n",
      "dtypes: float64(1), int64(12), uint8(2)\n",
      "memory usage: 517.7 KB\n"
     ]
    }
   ],
   "source": [
    "# Look at more information on data\n",
    "df.info()"
   ]
  },
  {
   "cell_type": "code",
   "execution_count": 31,
   "metadata": {},
   "outputs": [
    {
     "data": {
      "text/plain": [
       "['ID',\n",
       " 'Age',\n",
       " 'Experience',\n",
       " 'Income',\n",
       " 'ZIP Code',\n",
       " 'Family',\n",
       " 'CCAvg',\n",
       " 'Mortgage',\n",
       " 'Personal Loan',\n",
       " 'Securities Account',\n",
       " 'CD Account',\n",
       " 'Online',\n",
       " 'CreditCard',\n",
       " 'Education_1',\n",
       " 'Education_2']"
      ]
     },
     "execution_count": 31,
     "metadata": {},
     "output_type": "execute_result"
    }
   ],
   "source": [
    "# Get column names\n",
    "list(df.columns)"
   ]
  },
  {
   "cell_type": "code",
   "execution_count": 10,
   "metadata": {},
   "outputs": [],
   "source": [
    "# New Customer\n",
    "customer = [{'Age': 40, \n",
    " 'Experience': 10, \n",
    " 'Income': 84, \n",
    " 'Family': 2, \n",
    " 'CCAvg': 2, \n",
    " 'Education_1': 0,\n",
    " 'Education_2': 1, \n",
    " 'Mortgage' : 0, \n",
    " 'Securities Account': 0, \n",
    " 'CD Account': 0, \n",
    " 'Online': 1, \n",
    " 'CreditCard': 1}]\n",
    "new_customer = pd.DataFrame(customer)"
   ]
  },
  {
   "cell_type": "code",
   "execution_count": 11,
   "metadata": {},
   "outputs": [],
   "source": [
    "# Import Train Test Split model and define X and y\n",
    "from sklearn.model_selection import train_test_split\n",
    "X = df.drop(['ID', 'ZIP Code', 'Personal Loan'], axis=1)\n",
    "y= df['Personal Loan']\n",
    "X_train, X_test, y_train, y_test = train_test_split(X, y, test_size=.4, random_state=13)"
   ]
  },
  {
   "cell_type": "code",
   "execution_count": 12,
   "metadata": {},
   "outputs": [
    {
     "name": "stdout",
     "output_type": "stream",
     "text": [
      "Train Size: 60.0 %\n",
      "3000 3000\n"
     ]
    }
   ],
   "source": [
    "# Confirm Train size\n",
    "print(f'Train Size: {len(X_train)/(len(X_test)+len(X_train))*100} %')\n",
    "print(X_train.shape[0],y_train.shape[0])"
   ]
  },
  {
   "cell_type": "code",
   "execution_count": 13,
   "metadata": {},
   "outputs": [],
   "source": [
    "# Standardize features\n",
    "from sklearn.preprocessing import StandardScaler\n",
    "scaler = StandardScaler()\n",
    "scaled_features = scaler.fit_transform(X_train)\n",
    "# Convert back to DataFrame\n",
    "scaled_X_train = pd.DataFrame(scaled_features,columns=X_train.columns)\n",
    "scaled_X_test = pd.DataFrame(scaler.transform(X_test),columns=X_train.columns)\n",
    "# Scale added customer to compare\n",
    "scaled_customer = pd.DataFrame(scaler.transform(new_customer), columns=X_train.columns)\n"
   ]
  },
  {
   "cell_type": "code",
   "execution_count": 14,
   "metadata": {},
   "outputs": [
    {
     "data": {
      "text/html": [
       "<div>\n",
       "<style scoped>\n",
       "    .dataframe tbody tr th:only-of-type {\n",
       "        vertical-align: middle;\n",
       "    }\n",
       "\n",
       "    .dataframe tbody tr th {\n",
       "        vertical-align: top;\n",
       "    }\n",
       "\n",
       "    .dataframe thead th {\n",
       "        text-align: right;\n",
       "    }\n",
       "</style>\n",
       "<table border=\"1\" class=\"dataframe\">\n",
       "  <thead>\n",
       "    <tr style=\"text-align: right;\">\n",
       "      <th></th>\n",
       "      <th>Age</th>\n",
       "      <th>Experience</th>\n",
       "      <th>Income</th>\n",
       "      <th>Family</th>\n",
       "      <th>CCAvg</th>\n",
       "      <th>Mortgage</th>\n",
       "      <th>Securities Account</th>\n",
       "      <th>CD Account</th>\n",
       "      <th>Online</th>\n",
       "      <th>CreditCard</th>\n",
       "      <th>Education_1</th>\n",
       "      <th>Education_2</th>\n",
       "    </tr>\n",
       "  </thead>\n",
       "  <tbody>\n",
       "    <tr>\n",
       "      <th>0</th>\n",
       "      <td>-0.458765</td>\n",
       "      <td>-0.875412</td>\n",
       "      <td>0.214204</td>\n",
       "      <td>-0.335458</td>\n",
       "      <td>0.028666</td>\n",
       "      <td>-0.565726</td>\n",
       "      <td>3.016788</td>\n",
       "      <td>-0.257095</td>\n",
       "      <td>-1.204566</td>\n",
       "      <td>-0.641689</td>\n",
       "      <td>1.165543</td>\n",
       "      <td>1.63737</td>\n",
       "    </tr>\n",
       "  </tbody>\n",
       "</table>\n",
       "</div>"
      ],
      "text/plain": [
       "        Age  Experience    Income    Family     CCAvg  Mortgage  \\\n",
       "0 -0.458765   -0.875412  0.214204 -0.335458  0.028666 -0.565726   \n",
       "\n",
       "   Securities Account  CD Account    Online  CreditCard  Education_1  \\\n",
       "0            3.016788   -0.257095 -1.204566   -0.641689     1.165543   \n",
       "\n",
       "   Education_2  \n",
       "0      1.63737  "
      ]
     },
     "execution_count": 14,
     "metadata": {},
     "output_type": "execute_result"
    }
   ],
   "source": [
    "scaled_customer"
   ]
  },
  {
   "cell_type": "code",
   "execution_count": 15,
   "metadata": {},
   "outputs": [
    {
     "name": "stdout",
     "output_type": "stream",
     "text": [
      "<class 'pandas.core.frame.DataFrame'>\n",
      "RangeIndex: 3000 entries, 0 to 2999\n",
      "Data columns (total 12 columns):\n",
      " #   Column              Non-Null Count  Dtype  \n",
      "---  ------              --------------  -----  \n",
      " 0   Age                 3000 non-null   float64\n",
      " 1   Experience          3000 non-null   float64\n",
      " 2   Income              3000 non-null   float64\n",
      " 3   Family              3000 non-null   float64\n",
      " 4   CCAvg               3000 non-null   float64\n",
      " 5   Mortgage            3000 non-null   float64\n",
      " 6   Securities Account  3000 non-null   float64\n",
      " 7   CD Account          3000 non-null   float64\n",
      " 8   Online              3000 non-null   float64\n",
      " 9   CreditCard          3000 non-null   float64\n",
      " 10  Education_1         3000 non-null   float64\n",
      " 11  Education_2         3000 non-null   float64\n",
      "dtypes: float64(12)\n",
      "memory usage: 281.4 KB\n"
     ]
    }
   ],
   "source": [
    "scaled_X_train.info()"
   ]
  },
  {
   "cell_type": "code",
   "execution_count": 16,
   "metadata": {},
   "outputs": [],
   "source": [
    "# Add Personal Loan column back and reset index in order to do so.\n",
    "scaled_train = pd.concat([scaled_X_train, y_train.reset_index().drop('index', axis=1)], axis=1)"
   ]
  },
  {
   "cell_type": "code",
   "execution_count": 17,
   "metadata": {},
   "outputs": [
    {
     "name": "stdout",
     "output_type": "stream",
     "text": [
      "<class 'pandas.core.frame.DataFrame'>\n",
      "RangeIndex: 3000 entries, 0 to 2999\n",
      "Data columns (total 13 columns):\n",
      " #   Column              Non-Null Count  Dtype  \n",
      "---  ------              --------------  -----  \n",
      " 0   Age                 3000 non-null   float64\n",
      " 1   Experience          3000 non-null   float64\n",
      " 2   Income              3000 non-null   float64\n",
      " 3   Family              3000 non-null   float64\n",
      " 4   CCAvg               3000 non-null   float64\n",
      " 5   Mortgage            3000 non-null   float64\n",
      " 6   Securities Account  3000 non-null   float64\n",
      " 7   CD Account          3000 non-null   float64\n",
      " 8   Online              3000 non-null   float64\n",
      " 9   CreditCard          3000 non-null   float64\n",
      " 10  Education_1         3000 non-null   float64\n",
      " 11  Education_2         3000 non-null   float64\n",
      " 12  Personal Loan       3000 non-null   int64  \n",
      "dtypes: float64(12), int64(1)\n",
      "memory usage: 304.8 KB\n"
     ]
    }
   ],
   "source": [
    "# Confirm 3000 rows\n",
    "scaled_train.info()"
   ]
  },
  {
   "cell_type": "code",
   "execution_count": 18,
   "metadata": {},
   "outputs": [
    {
     "data": {
      "text/html": [
       "<div>\n",
       "<style scoped>\n",
       "    .dataframe tbody tr th:only-of-type {\n",
       "        vertical-align: middle;\n",
       "    }\n",
       "\n",
       "    .dataframe tbody tr th {\n",
       "        vertical-align: top;\n",
       "    }\n",
       "\n",
       "    .dataframe thead th {\n",
       "        text-align: right;\n",
       "    }\n",
       "</style>\n",
       "<table border=\"1\" class=\"dataframe\">\n",
       "  <thead>\n",
       "    <tr style=\"text-align: right;\">\n",
       "      <th></th>\n",
       "      <th>Age</th>\n",
       "      <th>Experience</th>\n",
       "      <th>Income</th>\n",
       "      <th>Family</th>\n",
       "      <th>CCAvg</th>\n",
       "      <th>Mortgage</th>\n",
       "      <th>Securities Account</th>\n",
       "      <th>CD Account</th>\n",
       "      <th>Online</th>\n",
       "      <th>CreditCard</th>\n",
       "      <th>Education_1</th>\n",
       "      <th>Education_2</th>\n",
       "      <th>Personal Loan</th>\n",
       "    </tr>\n",
       "  </thead>\n",
       "  <tbody>\n",
       "    <tr>\n",
       "      <th>0</th>\n",
       "      <td>1.456869</td>\n",
       "      <td>1.395285</td>\n",
       "      <td>-0.237643</td>\n",
       "      <td>-1.208289</td>\n",
       "      <td>0.310529</td>\n",
       "      <td>-0.565726</td>\n",
       "      <td>-0.331478</td>\n",
       "      <td>-0.257095</td>\n",
       "      <td>0.830174</td>\n",
       "      <td>1.558387</td>\n",
       "      <td>-0.857969</td>\n",
       "      <td>-0.610735</td>\n",
       "      <td>0</td>\n",
       "    </tr>\n",
       "    <tr>\n",
       "      <th>1</th>\n",
       "      <td>-0.284617</td>\n",
       "      <td>-0.264070</td>\n",
       "      <td>-0.990721</td>\n",
       "      <td>-1.208289</td>\n",
       "      <td>-0.816925</td>\n",
       "      <td>0.316241</td>\n",
       "      <td>-0.331478</td>\n",
       "      <td>-0.257095</td>\n",
       "      <td>-1.204566</td>\n",
       "      <td>-0.641689</td>\n",
       "      <td>-0.857969</td>\n",
       "      <td>-0.610735</td>\n",
       "      <td>0</td>\n",
       "    </tr>\n",
       "    <tr>\n",
       "      <th>2</th>\n",
       "      <td>1.543943</td>\n",
       "      <td>1.569954</td>\n",
       "      <td>1.698844</td>\n",
       "      <td>-1.208289</td>\n",
       "      <td>-0.365943</td>\n",
       "      <td>3.893106</td>\n",
       "      <td>-0.331478</td>\n",
       "      <td>-0.257095</td>\n",
       "      <td>-1.204566</td>\n",
       "      <td>-0.641689</td>\n",
       "      <td>1.165543</td>\n",
       "      <td>-0.610735</td>\n",
       "      <td>0</td>\n",
       "    </tr>\n",
       "    <tr>\n",
       "      <th>3</th>\n",
       "      <td>0.150755</td>\n",
       "      <td>0.172602</td>\n",
       "      <td>1.074865</td>\n",
       "      <td>1.410204</td>\n",
       "      <td>1.719846</td>\n",
       "      <td>-0.565726</td>\n",
       "      <td>-0.331478</td>\n",
       "      <td>-0.257095</td>\n",
       "      <td>-1.204566</td>\n",
       "      <td>-0.641689</td>\n",
       "      <td>-0.857969</td>\n",
       "      <td>-0.610735</td>\n",
       "      <td>1</td>\n",
       "    </tr>\n",
       "    <tr>\n",
       "      <th>4</th>\n",
       "      <td>1.456869</td>\n",
       "      <td>1.569954</td>\n",
       "      <td>2.150691</td>\n",
       "      <td>-1.208289</td>\n",
       "      <td>1.550728</td>\n",
       "      <td>-0.565726</td>\n",
       "      <td>-0.331478</td>\n",
       "      <td>-0.257095</td>\n",
       "      <td>0.830174</td>\n",
       "      <td>1.558387</td>\n",
       "      <td>1.165543</td>\n",
       "      <td>-0.610735</td>\n",
       "      <td>0</td>\n",
       "    </tr>\n",
       "  </tbody>\n",
       "</table>\n",
       "</div>"
      ],
      "text/plain": [
       "        Age  Experience    Income    Family     CCAvg  Mortgage  \\\n",
       "0  1.456869    1.395285 -0.237643 -1.208289  0.310529 -0.565726   \n",
       "1 -0.284617   -0.264070 -0.990721 -1.208289 -0.816925  0.316241   \n",
       "2  1.543943    1.569954  1.698844 -1.208289 -0.365943  3.893106   \n",
       "3  0.150755    0.172602  1.074865  1.410204  1.719846 -0.565726   \n",
       "4  1.456869    1.569954  2.150691 -1.208289  1.550728 -0.565726   \n",
       "\n",
       "   Securities Account  CD Account    Online  CreditCard  Education_1  \\\n",
       "0           -0.331478   -0.257095  0.830174    1.558387    -0.857969   \n",
       "1           -0.331478   -0.257095 -1.204566   -0.641689    -0.857969   \n",
       "2           -0.331478   -0.257095 -1.204566   -0.641689     1.165543   \n",
       "3           -0.331478   -0.257095 -1.204566   -0.641689    -0.857969   \n",
       "4           -0.331478   -0.257095  0.830174    1.558387     1.165543   \n",
       "\n",
       "   Education_2  Personal Loan  \n",
       "0    -0.610735              0  \n",
       "1    -0.610735              0  \n",
       "2    -0.610735              0  \n",
       "3    -0.610735              1  \n",
       "4    -0.610735              0  "
      ]
     },
     "execution_count": 18,
     "metadata": {},
     "output_type": "execute_result"
    }
   ],
   "source": [
    "scaled_train.head()"
   ]
  },
  {
   "cell_type": "code",
   "execution_count": 19,
   "metadata": {},
   "outputs": [],
   "source": [
    "# Import Nearest Neighbor model and fit Standardized Data excluding Zip, Personal Loan, and ID\n",
    "from sklearn.neighbors import NearestNeighbors\n",
    "knn = NearestNeighbors(n_neighbors=1)\n",
    "knn.fit(scaled_X_train)\n",
    "distances, indices = knn.kneighbors(scaled_customer)"
   ]
  },
  {
   "cell_type": "code",
   "execution_count": 20,
   "metadata": {},
   "outputs": [
    {
     "data": {
      "text/plain": [
       "array([2434], dtype=int64)"
      ]
     },
     "execution_count": 20,
     "metadata": {},
     "output_type": "execute_result"
    }
   ],
   "source": [
    "# Checking what index is close to customer\n",
    "indices[0]"
   ]
  },
  {
   "cell_type": "code",
   "execution_count": 21,
   "metadata": {},
   "outputs": [
    {
     "data": {
      "text/html": [
       "<div>\n",
       "<style scoped>\n",
       "    .dataframe tbody tr th:only-of-type {\n",
       "        vertical-align: middle;\n",
       "    }\n",
       "\n",
       "    .dataframe tbody tr th {\n",
       "        vertical-align: top;\n",
       "    }\n",
       "\n",
       "    .dataframe thead th {\n",
       "        text-align: right;\n",
       "    }\n",
       "</style>\n",
       "<table border=\"1\" class=\"dataframe\">\n",
       "  <thead>\n",
       "    <tr style=\"text-align: right;\">\n",
       "      <th></th>\n",
       "      <th>Age</th>\n",
       "      <th>Experience</th>\n",
       "      <th>Income</th>\n",
       "      <th>Family</th>\n",
       "      <th>CCAvg</th>\n",
       "      <th>Mortgage</th>\n",
       "      <th>Securities Account</th>\n",
       "      <th>CD Account</th>\n",
       "      <th>Online</th>\n",
       "      <th>CreditCard</th>\n",
       "      <th>Education_1</th>\n",
       "      <th>Education_2</th>\n",
       "      <th>Personal Loan</th>\n",
       "    </tr>\n",
       "  </thead>\n",
       "  <tbody>\n",
       "    <tr>\n",
       "      <th>2434</th>\n",
       "      <td>-0.719988</td>\n",
       "      <td>-0.613408</td>\n",
       "      <td>0.020555</td>\n",
       "      <td>0.537373</td>\n",
       "      <td>0.366902</td>\n",
       "      <td>-0.565726</td>\n",
       "      <td>3.016788</td>\n",
       "      <td>-0.257095</td>\n",
       "      <td>-1.204566</td>\n",
       "      <td>-0.641689</td>\n",
       "      <td>-0.857969</td>\n",
       "      <td>1.63737</td>\n",
       "      <td>0</td>\n",
       "    </tr>\n",
       "  </tbody>\n",
       "</table>\n",
       "</div>"
      ],
      "text/plain": [
       "           Age  Experience    Income    Family     CCAvg  Mortgage  \\\n",
       "2434 -0.719988   -0.613408  0.020555  0.537373  0.366902 -0.565726   \n",
       "\n",
       "      Securities Account  CD Account    Online  CreditCard  Education_1  \\\n",
       "2434            3.016788   -0.257095 -1.204566   -0.641689    -0.857969   \n",
       "\n",
       "      Education_2  Personal Loan  \n",
       "2434      1.63737              0  "
      ]
     },
     "execution_count": 21,
     "metadata": {},
     "output_type": "execute_result"
    }
   ],
   "source": [
    "# Showing the closest neighbor to new customer\n",
    "scaled_train.iloc[indices[0]]"
   ]
  },
  {
   "cell_type": "markdown",
   "metadata": {},
   "source": [
    "## Question 1 Answer\n",
    "While using the KNN model with a neighbor of 1, I was able to show that personal loan will be 0, meaning **they will not be able to convert this customer to a personal loan**."
   ]
  },
  {
   "cell_type": "code",
   "execution_count": 22,
   "metadata": {},
   "outputs": [
    {
     "data": {
      "text/plain": [
       "[0.961,\n",
       " 0.9605,\n",
       " 0.97,\n",
       " 0.957,\n",
       " 0.9635,\n",
       " 0.955,\n",
       " 0.96,\n",
       " 0.95,\n",
       " 0.955,\n",
       " 0.9495,\n",
       " 0.951,\n",
       " 0.9475,\n",
       " 0.95,\n",
       " 0.9465,\n",
       " 0.948]"
      ]
     },
     "execution_count": 22,
     "metadata": {},
     "output_type": "execute_result"
    }
   ],
   "source": [
    "# Import classifier model for knn\n",
    "from sklearn.neighbors import KNeighborsClassifier\n",
    "# Import Accuracy metrics\n",
    "from sklearn.metrics import accuracy_score\n",
    "\n",
    "# Using different K values for best results (Elbow method)\n",
    "results = []\n",
    "for k in range(1,16):\n",
    "    knn = KNeighborsClassifier(n_neighbors=k).fit(scaled_X_train, y_train)\n",
    "    results.append(accuracy_score(y_test, knn.predict(scaled_X_test)))\n",
    "    \n",
    "results"
   ]
  },
  {
   "cell_type": "code",
   "execution_count": 23,
   "metadata": {},
   "outputs": [
    {
     "data": {
      "text/plain": [
       "[<matplotlib.lines.Line2D at 0x2947f9a04f0>]"
      ]
     },
     "execution_count": 23,
     "metadata": {},
     "output_type": "execute_result"
    },
    {
     "data": {
      "image/png": "[encoded data removed]",
      "text/plain": [
       "<Figure size 720x432 with 1 Axes>"
      ]
     },
     "metadata": {},
     "output_type": "display_data"
    }
   ],
   "source": [
    "# Show visually accuracy with different k values\n",
    "plt.style.use('ggplot')\n",
    "plt.figure(figsize=(10,6))\n",
    "sns.lineplot(x=range(1,16), y=results)\n",
    "plt.title('Accuracy for K neighbors')\n",
    "plt.xlabel('k')\n",
    "plt.ylabel('Accuracy')\n",
    "plt.plot(3,results[2], marker='X', ms=10, markerfacecolor='b')"
   ]
  },
  {
   "cell_type": "code",
   "execution_count": 24,
   "metadata": {},
   "outputs": [],
   "source": [
    "# Showing another method best k value by getting the error rate\n",
    "error_rate = []\n",
    "for x in range(1,16):\n",
    "    knn = KNeighborsClassifier(n_neighbors=x)\n",
    "    knn.fit(scaled_X_train, y_train)\n",
    "    predictions = knn.predict(scaled_X_test)\n",
    "    error_rate.append(np.mean(predictions != y_test))"
   ]
  },
  {
   "cell_type": "code",
   "execution_count": 25,
   "metadata": {},
   "outputs": [
    {
     "data": {
      "text/plain": [
       "Text(0, 0.5, 'Error Rate')"
      ]
     },
     "execution_count": 25,
     "metadata": {},
     "output_type": "execute_result"
    },
    {
     "data": {
      "image/png": "[encoded data removed]",
      "text/plain": [
       "<Figure size 720x432 with 1 Axes>"
      ]
     },
     "metadata": {},
     "output_type": "display_data"
    }
   ],
   "source": [
    "# Showing visual error rate for different k values\n",
    "plt.style.use('ggplot')\n",
    "plt.figure(figsize=(10,6))\n",
    "plt.plot(range(1,16), error_rate, color='blue', ls='--', marker='o', markerfacecolor='red', markersize=10)\n",
    "plt.plot(range(1,16)[2],error_rate[2], 'X', color='orange', markersize=20)\n",
    "plt.title('Error Rate and K')\n",
    "plt.xlabel('k values')\n",
    "plt.ylabel('Error Rate')"
   ]
  },
  {
   "cell_type": "markdown",
   "metadata": {},
   "source": [
    "## Question 2 Answer\n",
    "Visually you can see the best choice is choosing a k number of **3**"
   ]
  },
  {
   "cell_type": "markdown",
   "metadata": {},
   "source": [
    "## Question 3 Answer below"
   ]
  },
  {
   "cell_type": "code",
   "execution_count": 26,
   "metadata": {},
   "outputs": [
    {
     "name": "stdout",
     "output_type": "stream",
     "text": [
      "[[1818    7]\n",
      " [  53  122]]\n",
      "              precision    recall  f1-score   support\n",
      "\n",
      "           0       0.97      1.00      0.98      1825\n",
      "           1       0.95      0.70      0.80       175\n",
      "\n",
      "    accuracy                           0.97      2000\n",
      "   macro avg       0.96      0.85      0.89      2000\n",
      "weighted avg       0.97      0.97      0.97      2000\n",
      "\n",
      "\n",
      "\n"
     ]
    }
   ],
   "source": [
    "# Import confusion matrix for validation using the new k values\n",
    "from sklearn.metrics import confusion_matrix, classification_report\n",
    "knn = KNeighborsClassifier(n_neighbors=3)\n",
    "knn.fit(scaled_X_train,y_train)\n",
    "new_predictions = knn.predict(scaled_X_test)\n",
    "print(confusion_matrix(y_test, new_predictions))\n",
    "print(classification_report(y_test, new_predictions))\n",
    "print('\\n')"
   ]
  },
  {
   "cell_type": "markdown",
   "metadata": {},
   "source": [
    "## Question 4 Solution\n",
    "Below are the 3 closes neighbors that all show no personal loan"
   ]
  },
  {
   "cell_type": "code",
   "execution_count": 27,
   "metadata": {},
   "outputs": [
    {
     "name": "stdout",
     "output_type": "stream",
     "text": [
      "2434    0\n",
      "2836    0\n",
      "2246    0\n",
      "Name: Personal Loan, dtype: int64\n"
     ]
    }
   ],
   "source": [
    "distances, indices = knn.kneighbors(scaled_customer)\n",
    "print(scaled_train.iloc[indices[0]]['Personal Loan'])"
   ]
  },
  {
   "cell_type": "markdown",
   "metadata": {},
   "source": [
    "## Question 5 Solution\n",
    "The less training data we use the less accurate we will be in predicting, at 50% test data you can see a decrease in accuracy. "
   ]
  },
  {
   "cell_type": "code",
   "execution_count": 28,
   "metadata": {},
   "outputs": [
    {
     "name": "stdout",
     "output_type": "stream",
     "text": [
      "Test Size: 0.2\n",
      "[[906   5]\n",
      " [ 26  63]]\n",
      "              precision    recall  f1-score   support\n",
      "\n",
      "           0       0.97      0.99      0.98       911\n",
      "           1       0.93      0.71      0.80        89\n",
      "\n",
      "    accuracy                           0.97      1000\n",
      "   macro avg       0.95      0.85      0.89      1000\n",
      "weighted avg       0.97      0.97      0.97      1000\n",
      "\n",
      "\n",
      "\n",
      "Test Size: 0.3\n",
      "[[1368    7]\n",
      " [  36   89]]\n",
      "              precision    recall  f1-score   support\n",
      "\n",
      "           0       0.97      0.99      0.98      1375\n",
      "           1       0.93      0.71      0.81       125\n",
      "\n",
      "    accuracy                           0.97      1500\n",
      "   macro avg       0.95      0.85      0.89      1500\n",
      "weighted avg       0.97      0.97      0.97      1500\n",
      "\n",
      "\n",
      "\n",
      "Test Size: 0.5\n",
      "[[2255   17]\n",
      " [  73  155]]\n",
      "              precision    recall  f1-score   support\n",
      "\n",
      "           0       0.97      0.99      0.98      2272\n",
      "           1       0.90      0.68      0.78       228\n",
      "\n",
      "    accuracy                           0.96      2500\n",
      "   macro avg       0.93      0.84      0.88      2500\n",
      "weighted avg       0.96      0.96      0.96      2500\n",
      "\n",
      "\n",
      "\n"
     ]
    }
   ],
   "source": [
    "k = 3 # Assigned best k value\n",
    "for test_percentage in [.2, .3, .5]:\n",
    "    X_train, X_test, y_train, y_test = train_test_split(X, y, test_size=test_percentage, random_state=13)\n",
    "    scaled_X_train = pd.DataFrame(scaler.fit_transform(X_train),columns=X_train.columns)\n",
    "    scaled_X_test = pd.DataFrame(scaler.transform(X_test), columns=X_test.columns)\n",
    "    knn = KNeighborsClassifier(n_neighbors=k)\n",
    "    knn.fit(scaled_X_train, y_train)\n",
    "    predictions = knn.predict(scaled_X_test)\n",
    "    print(f'Test Size: {test_percentage}')\n",
    "    print(confusion_matrix(y_test, predictions))\n",
    "    print(classification_report(y_test, predictions))\n",
    "    print('\\n')"
   ]
  },
  {
   "cell_type": "code",
   "execution_count": null,
   "metadata": {},
   "outputs": [],
   "source": []
  }
 ],
 "metadata": {
  "interpreter": {
   "hash": "29dbdf3fad318366d9fc506ea2fc94fa4836f84ba004be56865b60165d2c8a99"
  },
  "kernelspec": {
   "display_name": "Python 3.9.6 64-bit",
   "name": "python3"
  },
  "language_info": {
   "codemirror_mode": {
    "name": "ipython",
    "version": 3
   },
   "file_extension": ".py",
   "mimetype": "text/x-python",
   "name": "python",
   "nbconvert_exporter": "python",
   "pygments_lexer": "ipython3",
   "version": "3.9.6"
  },
  "orig_nbformat": 4
 },
 "nbformat": 4,
 "nbformat_minor": 2
}
